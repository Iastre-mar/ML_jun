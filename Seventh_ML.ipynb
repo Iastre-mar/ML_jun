{
 "cells": [
  {
   "cell_type": "markdown",
   "metadata": {},
   "source": [
    "# Задание 1\n",
    "Вычислите евклидово расстояние между кластером c1 и кластером c3. Это расстояние получилось меньше, или больше чем расстояние между кластером c1 и кластером c2?   \n",
    "\n",
    "   Координаты центра для трёх кластеров:\n",
    "\n",
    "* \"красный\" кластер  c1=[1.0,1.5] \n",
    "* \"оранжевый\" кластер  c2=[−1.0,−0.5] \n",
    "* \"зеленый\" кластер  c3=[1.0,−0.5]"
   ]
  },
  {
   "cell_type": "code",
   "execution_count": 1,
   "metadata": {},
   "outputs": [],
   "source": [
    "from scipy.spatial.distance import euclidean"
   ]
  },
  {
   "cell_type": "code",
   "execution_count": 2,
   "metadata": {},
   "outputs": [],
   "source": [
    "c1 = [1.0,1.5]\n",
    "c2 = [-1.0,-0.5]\n",
    "c3 = [1.0,-0.5]"
   ]
  },
  {
   "cell_type": "code",
   "execution_count": 3,
   "metadata": {},
   "outputs": [
    {
     "data": {
      "text/plain": [
       "2.0"
      ]
     },
     "execution_count": 3,
     "metadata": {},
     "output_type": "execute_result"
    }
   ],
   "source": [
    "euclidean(c1,c3)"
   ]
  },
  {
   "cell_type": "code",
   "execution_count": 4,
   "metadata": {},
   "outputs": [
    {
     "data": {
      "text/plain": [
       "2.8284271247461903"
      ]
     },
     "execution_count": 4,
     "metadata": {},
     "output_type": "execute_result"
    }
   ],
   "source": [
    "euclidean(c1,c2)"
   ]
  },
  {
   "cell_type": "markdown",
   "metadata": {},
   "source": [
    "**Меньше**"
   ]
  },
  {
   "cell_type": "markdown",
   "metadata": {},
   "source": [
    "# 2.1 Домашнее задание начального уровня\n",
    "Потренируйтесь в программировании на python. Надо будет найти расстояние от каждой точки из массива  X  до центра кластера, а потом просуммировать эти расстояния. Это будет реализацией библиотечной функции sklearn.metrics.pairwise.euclidean_distances из первого урока. В итоге у Вас должно получиться число чуть более  16  - это и будет расстояние.   \n",
    "   ∑i=1k∣xi−c∣ \n",
    "\n",
    "где для одного обучающего примера x, состоящего из двух координат:   \n",
    "   ∣x−c∣=(x1−c1)2+(x2−c2)2"
   ]
  },
  {
   "cell_type": "markdown",
   "metadata": {},
   "source": [
    "Примечание Как вы уже знаете из урока про линейную регрессию, в этой формуле должен быть квадратный корень, но для скорости работы мы опускаем его.   \n",
    "\n",
    "   Подсказка Средствами библиотеки numpy реализуйте формулу нахождения суммы внутрикластерных расстояний"
   ]
  },
  {
   "cell_type": "code",
   "execution_count": 5,
   "metadata": {},
   "outputs": [],
   "source": [
    "import numpy as np\n",
    "\n",
    "clust = np.array([\n",
    " [-0.5972191612445694, -0.5919098916910581],\n",
    " [-1.5838020751869848, 0.4743393635868491],\n",
    " [-1.892642118066139, -1.2770390481464395],\n",
    " [-1.021761443519372, -0.38446059106320013],\n",
    " [-0.628271339507516, -2.308149346281125],\n",
    " [-0.7180915776856387, 1.1805550909358404],\n",
    " [-1.543143767548152, -1.4163791359687334],\n",
    " [0.022103701018375554, -1.1279478858865397],\n",
    " [-0.7776518874305778, -0.4157532453316538],\n",
    " [-1.2073577296008344, -1.1308523658604184]\n",
    "])\n",
    "\n",
    "centroid = np.array([-0.9774245525274352, -0.032635425821084516])\n"
   ]
  },
  {
   "cell_type": "code",
   "execution_count": 6,
   "metadata": {},
   "outputs": [
    {
     "data": {
      "text/plain": [
       "array([0.45734407, 0.62471714, 2.38616357, 0.12574671, 5.29987157,\n",
       "       1.53908482, 2.23478489, 2.19876611, 0.18668838, 1.25894971])"
      ]
     },
     "execution_count": 6,
     "metadata": {},
     "output_type": "execute_result"
    }
   ],
   "source": [
    "((clust[:, 0] - centroid[0])**2 + (clust[:, 1] - centroid[1]) **2) # расстояния от кажой точки до центра кластера"
   ]
  },
  {
   "cell_type": "code",
   "execution_count": 7,
   "metadata": {},
   "outputs": [
    {
     "data": {
      "text/plain": [
       "16.31211696438564"
      ]
     },
     "execution_count": 7,
     "metadata": {},
     "output_type": "execute_result"
    }
   ],
   "source": [
    "((clust[:, 0] - centroid[0])**2 + (clust[:, 1] - centroid[1]) **2).sum()"
   ]
  },
  {
   "cell_type": "markdown",
   "metadata": {},
   "source": [
    "# 2.2 Домашнее задание начального уровня\n",
    "Обучите алгоритм k-средних для количества кластеров  n=3  на том же датасете, который содержится в файле data/clustering.pkl. Визуализируйте результат:"
   ]
  },
  {
   "cell_type": "code",
   "execution_count": 8,
   "metadata": {},
   "outputs": [],
   "source": [
    "import pickle"
   ]
  },
  {
   "cell_type": "code",
   "execution_count": 9,
   "metadata": {},
   "outputs": [],
   "source": [
    "with open('clustering.pkl', 'rb') as data:\n",
    "    dataset = pickle.load(data)"
   ]
  },
  {
   "cell_type": "code",
   "execution_count": 10,
   "metadata": {},
   "outputs": [],
   "source": [
    "X = dataset['X']\n",
    "Y = dataset['Y']"
   ]
  },
  {
   "cell_type": "code",
   "execution_count": 11,
   "metadata": {},
   "outputs": [],
   "source": [
    "from sklearn.cluster import KMeans"
   ]
  },
  {
   "cell_type": "code",
   "execution_count": 12,
   "metadata": {},
   "outputs": [],
   "source": [
    "km = KMeans(n_clusters = 3).fit(X)"
   ]
  },
  {
   "cell_type": "code",
   "execution_count": 13,
   "metadata": {},
   "outputs": [
    {
     "data": {
      "text/plain": [
       "array([1, 2, 1, 1, 0, 2, 2, 2, 0, 1, 2, 1, 2, 2, 0, 2, 2, 1, 2, 1, 1, 1,\n",
       "       2, 2, 1, 0, 1, 1, 1, 2, 1, 0, 0, 1, 0, 2, 0, 0, 2, 1, 2, 1, 0, 2,\n",
       "       0, 1, 1, 1, 1, 1, 0, 2, 0, 0, 1, 0, 2, 2, 0, 1, 0, 2, 2, 1, 1, 2,\n",
       "       1, 2, 1, 2, 1, 2, 2, 1, 1, 1, 0, 0, 2, 1, 0, 1, 1, 1, 1, 1, 1, 1,\n",
       "       2, 2, 2, 1, 0, 1, 1, 0, 2, 1, 1, 1], dtype=int32)"
      ]
     },
     "execution_count": 13,
     "metadata": {},
     "output_type": "execute_result"
    }
   ],
   "source": [
    "km.labels_"
   ]
  },
  {
   "cell_type": "code",
   "execution_count": 14,
   "metadata": {},
   "outputs": [
    {
     "data": {
      "image/png": "[encoded data removed]",
      "text/plain": [
       "<Figure size 432x288 with 1 Axes>"
      ]
     },
     "metadata": {
      "needs_background": "light"
     },
     "output_type": "display_data"
    }
   ],
   "source": [
    "import matplotlib.pyplot as plt\n",
    "%matplotlib inline\n",
    "\n",
    "plt.scatter(X[:, 0], X[:, 1], s=40, c=km.labels_, marker='o', alpha=0.8, label='data')\n",
    "plt.show()"
   ]
  },
  {
   "cell_type": "markdown",
   "metadata": {},
   "source": [
    "# 2.3 Домашнее задание высокого уровня   \n",
    "Мы узнали про эвристику, улучшающую алгоритм: запустить несколько раз алгоритм, запомнить, куда попали центроиды при каждом запуске, а потом усреднить координаты за все несколько запуска.   \n",
    "\n",
    "   Попробуйте применить эту эвристику на практике:\n",
    "* используйте 10 запусков алгоритма  k -средних для  k=2  с параметрами   \n",
    "   kmeans_model = KMeans(n_clusters=2, n_init=1, random_state=None, algorithm='full', max_iter=2)\n",
    "* в каждом запуске сохраняйте координаты центроидов общий массив  c . См. cluster_centers_ : array, [n_clusters, n_features]\n",
    "* визуализируйте координаты точек из  c  на фоне исходного множества точек\n"
   ]
  },
  {
   "cell_type": "code",
   "execution_count": 15,
   "metadata": {},
   "outputs": [],
   "source": [
    "lst = []\n",
    "for i in range(10):\n",
    "    kmeans_model = KMeans(n_clusters=2, n_init=1, random_state=None, algorithm='full', max_iter=2).fit(X)\n",
    "    lst.extend(kmeans_model.cluster_centers_)\n",
    "else:\n",
    "    lst = np.array(lst)"
   ]
  },
  {
   "cell_type": "code",
   "execution_count": 16,
   "metadata": {},
   "outputs": [
    {
     "data": {
      "image/png": "[encoded data removed]",
      "text/plain": [
       "<Figure size 432x288 with 1 Axes>"
      ]
     },
     "metadata": {
      "needs_background": "light"
     },
     "output_type": "display_data"
    }
   ],
   "source": [
    "from matplotlib import pyplot as plt\n",
    "%matplotlib inline\n",
    "\n",
    "plt.scatter(lst[:,0], lst[:,1])\n",
    "plt.scatter(X[:,0], X[:,1], s=10)\n",
    "plt.show()"
   ]
  },
  {
   "cell_type": "markdown",
   "metadata": {},
   "source": [
    "# Домашнее задание начального уровня (3 ???)\n",
    "Обучите модель DBSCAN с параметром min_samples=8. Визуализируйте результат."
   ]
  },
  {
   "cell_type": "code",
   "execution_count": 17,
   "metadata": {},
   "outputs": [],
   "source": [
    "from sklearn.cluster import DBSCAN"
   ]
  },
  {
   "cell_type": "code",
   "execution_count": 18,
   "metadata": {},
   "outputs": [],
   "source": [
    "db = DBSCAN(min_samples=8).fit(X)"
   ]
  },
  {
   "cell_type": "code",
   "execution_count": 19,
   "metadata": {},
   "outputs": [
    {
     "data": {
      "image/png": "[encoded data removed]",
      "text/plain": [
       "<Figure size 432x288 with 1 Axes>"
      ]
     },
     "metadata": {
      "needs_background": "light"
     },
     "output_type": "display_data"
    }
   ],
   "source": [
    "from matplotlib import pyplot as plt\n",
    "%matplotlib inline\n",
    "\n",
    "plt.scatter(X[:,0], X[:,1], c=db.labels_)\n",
    "plt.show()"
   ]
  },
  {
   "cell_type": "markdown",
   "metadata": {},
   "source": [
    "# 4.1 Задание начального уровня\n",
    "Обучите k-means для количества кластеров  k=4  на датасете data/clustering.pkl.    \n",
    "   Как изменилась метрика силуэтта? Стало лучше или хуже? Какое количество кластеров лучше, два или четыре?"
   ]
  },
  {
   "cell_type": "code",
   "execution_count": 20,
   "metadata": {},
   "outputs": [],
   "source": [
    "km = KMeans(n_clusters=4).fit(X)"
   ]
  },
  {
   "cell_type": "code",
   "execution_count": 21,
   "metadata": {},
   "outputs": [],
   "source": [
    "from sklearn.metrics import silhouette_score\n",
    "\n",
    "score = silhouette_score(X, km.labels_)"
   ]
  },
  {
   "cell_type": "code",
   "execution_count": 22,
   "metadata": {},
   "outputs": [
    {
     "data": {
      "text/plain": [
       "0.4417501080615704"
      ]
     },
     "execution_count": 22,
     "metadata": {},
     "output_type": "execute_result"
    }
   ],
   "source": [
    "score"
   ]
  },
  {
   "cell_type": "code",
   "execution_count": 23,
   "metadata": {},
   "outputs": [],
   "source": [
    "km = KMeans(n_clusters=2).fit(X)\n",
    "score = silhouette_score(X, km.labels_)"
   ]
  },
  {
   "cell_type": "code",
   "execution_count": 24,
   "metadata": {},
   "outputs": [
    {
     "data": {
      "text/plain": [
       "0.4465356047465253"
      ]
     },
     "execution_count": 24,
     "metadata": {},
     "output_type": "execute_result"
    }
   ],
   "source": [
    "score"
   ]
  },
  {
   "cell_type": "markdown",
   "metadata": {},
   "source": [
    "**Уменьшилась, стало хуже, лучше 2 кластера**"
   ]
  },
  {
   "cell_type": "markdown",
   "metadata": {},
   "source": [
    "# 4.2 Задание начального уровня\n",
    "Обучите k-means для количества кластеров  k=4  на датасете data/clustering.pkl. Как изменилась метрика AMI? Стало лучше или хуже? Какое количество кластеров лучше по метрике AMI?"
   ]
  },
  {
   "cell_type": "code",
   "execution_count": 25,
   "metadata": {},
   "outputs": [],
   "source": [
    "km = KMeans(n_clusters=4).fit(X)"
   ]
  },
  {
   "cell_type": "code",
   "execution_count": 26,
   "metadata": {},
   "outputs": [],
   "source": [
    "from sklearn.metrics.cluster import adjusted_mutual_info_score\n",
    "\n",
    "score = adjusted_mutual_info_score(Y, km.labels_, average_method='arithmetic')"
   ]
  },
  {
   "cell_type": "code",
   "execution_count": 27,
   "metadata": {},
   "outputs": [
    {
     "data": {
      "text/plain": [
       "0.5827727212133398"
      ]
     },
     "execution_count": 27,
     "metadata": {},
     "output_type": "execute_result"
    }
   ],
   "source": [
    "score"
   ]
  },
  {
   "cell_type": "markdown",
   "metadata": {},
   "source": [
    "**Ухудшилась по сравнению с показанным в уроке**"
   ]
  },
  {
   "cell_type": "code",
   "execution_count": 28,
   "metadata": {},
   "outputs": [],
   "source": [
    "km = KMeans(n_clusters=2).fit(X)"
   ]
  },
  {
   "cell_type": "code",
   "execution_count": 29,
   "metadata": {},
   "outputs": [],
   "source": [
    "from sklearn.metrics.cluster import adjusted_mutual_info_score\n",
    "\n",
    "score = adjusted_mutual_info_score(Y, km.labels_, average_method='arithmetic')"
   ]
  },
  {
   "cell_type": "code",
   "execution_count": 30,
   "metadata": {},
   "outputs": [
    {
     "data": {
      "text/plain": [
       "0.9286022516535728"
      ]
     },
     "execution_count": 30,
     "metadata": {},
     "output_type": "execute_result"
    }
   ],
   "source": [
    "score"
   ]
  },
  {
   "cell_type": "markdown",
   "metadata": {},
   "source": [
    "**Лучше всего 2**"
   ]
  },
  {
   "cell_type": "markdown",
   "metadata": {},
   "source": [
    "# 4.3 Задание высокого уровня\n",
    "Загрузите датасет clustering_hw.csv из приложенной директории data и визуализируйте данные.   \n",
    "\n",
    "   В рамках домашней работы:\n",
    "\n",
    "* вычислите оптимальное количество кластеров  k \n",
    "* обучите k-means с количеством кластеров  k \n",
    "* к какому кластеру принадлежит точка  x=(5,8) ? к какому кластеру принадлежит точка  x=(0,5) ? Они принадлежат к разным кластерам или одному?\n",
    "* Каково качество кластеризации по AMI"
   ]
  },
  {
   "cell_type": "code",
   "execution_count": 31,
   "metadata": {},
   "outputs": [],
   "source": [
    "import pandas as pd\n",
    "df = pd.read_csv('7.10_clustering_hw.csv')"
   ]
  },
  {
   "cell_type": "code",
   "execution_count": 32,
   "metadata": {},
   "outputs": [],
   "source": [
    "X = np.array(df[['x1', 'x2']])"
   ]
  },
  {
   "cell_type": "code",
   "execution_count": 33,
   "metadata": {},
   "outputs": [],
   "source": [
    "Y = np.array(df['y'])"
   ]
  },
  {
   "cell_type": "code",
   "execution_count": 34,
   "metadata": {},
   "outputs": [
    {
     "name": "stdout",
     "output_type": "stream",
     "text": [
      "cluster_num 1, metric 1105.897378110108\n",
      "cluster_num 2, metric 663.5712032768098\n",
      "cluster_num 3, metric 374.6589714184063\n",
      "cluster_num 4, metric 348.17052724059613\n",
      "cluster_num 5, metric 323.0909288942993\n",
      "cluster_num 6, metric 300.10388486033395\n"
     ]
    }
   ],
   "source": [
    "from scipy.spatial.distance import euclidean\n",
    "from sklearn.metrics.pairwise import euclidean_distances\n",
    "\n",
    "metrics = []\n",
    "MAX_CLUSTERS = 7\n",
    "for cluster_num in range(1, MAX_CLUSTERS):\n",
    "    kmeans_model = KMeans(n_clusters=cluster_num, random_state=99).fit(X)\n",
    "    centroids, labels = kmeans_model.cluster_centers_, kmeans_model.labels_\n",
    "    metric = 0\n",
    "    for centroid_label in range(cluster_num):\n",
    "        metric += euclidean_distances(\n",
    "            X[labels==centroid_label],\n",
    "            centroids[centroid_label,:].reshape(1,-1)\n",
    "        ).sum(axis=0)[0]\n",
    "    print(\"cluster_num %s, metric %s\" % (cluster_num, metric))\n",
    "    metrics.append(metric)"
   ]
  },
  {
   "cell_type": "code",
   "execution_count": 35,
   "metadata": {},
   "outputs": [
    {
     "name": "stdout",
     "output_type": "stream",
     "text": [
      "best cluster num: 3\n"
     ]
    },
    {
     "data": {
      "image/png": "[encoded data removed]",
      "text/plain": [
       "<Figure size 432x288 with 1 Axes>"
      ]
     },
     "metadata": {
      "needs_background": "light"
     },
     "output_type": "display_data"
    }
   ],
   "source": [
    "D = []\n",
    "for i in range(0, len(metrics)-1):\n",
    "    d = abs(metrics[i+1]-metrics[i])/abs(metrics[i]-metrics[i-1])\n",
    "    D.append(d)\n",
    "print(\"best cluster num: %s\" % (np.argmin(D)+1))\n",
    "\n",
    "plt.plot([i+1 for i in range(len(metrics))], metrics)\n",
    "plt.show()"
   ]
  },
  {
   "cell_type": "markdown",
   "metadata": {},
   "source": [
    "**Оптимальное количество кластеров == 3**"
   ]
  },
  {
   "cell_type": "code",
   "execution_count": 36,
   "metadata": {},
   "outputs": [],
   "source": [
    "km = KMeans(n_clusters=3).fit(X)"
   ]
  },
  {
   "cell_type": "code",
   "execution_count": 37,
   "metadata": {},
   "outputs": [
    {
     "data": {
      "text/plain": [
       "array([1], dtype=int32)"
      ]
     },
     "execution_count": 37,
     "metadata": {},
     "output_type": "execute_result"
    }
   ],
   "source": [
    "km.predict(np.array([5,8]).reshape(1,-1))"
   ]
  },
  {
   "cell_type": "code",
   "execution_count": 38,
   "metadata": {},
   "outputs": [
    {
     "data": {
      "text/plain": [
       "array([2], dtype=int32)"
      ]
     },
     "execution_count": 38,
     "metadata": {},
     "output_type": "execute_result"
    }
   ],
   "source": [
    "km.predict(np.array([0,5]).reshape(1,-1))"
   ]
  },
  {
   "cell_type": "markdown",
   "metadata": {},
   "source": [
    "**К разным**"
   ]
  },
  {
   "cell_type": "code",
   "execution_count": 39,
   "metadata": {},
   "outputs": [],
   "source": [
    "score = adjusted_mutual_info_score(Y, km.labels_, average_method='arithmetic')"
   ]
  },
  {
   "cell_type": "code",
   "execution_count": 40,
   "metadata": {},
   "outputs": [
    {
     "data": {
      "text/plain": [
       "0.9700074953683859"
      ]
     },
     "execution_count": 40,
     "metadata": {},
     "output_type": "execute_result"
    }
   ],
   "source": [
    "score"
   ]
  }
 ],
 "metadata": {
  "kernelspec": {
   "display_name": "Python 3",
   "language": "python",
   "name": "python3"
  },
  "language_info": {
   "codemirror_mode": {
    "name": "ipython",
    "version": 3
   },
   "file_extension": ".py",
   "mimetype": "text/x-python",
   "name": "python",
   "nbconvert_exporter": "python",
   "pygments_lexer": "ipython3",
   "version": "3.8.3"
  }
 },
 "nbformat": 4,
 "nbformat_minor": 4
}
