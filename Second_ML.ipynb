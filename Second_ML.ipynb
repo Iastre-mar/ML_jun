{
 "cells": [
  {
   "cell_type": "code",
   "execution_count": 1,
   "metadata": {},
   "outputs": [
    {
     "name": "stdout",
     "output_type": "stream",
     "text": [
      "(Column(name='table_name', type_code=1043),)\n"
     ]
    }
   ],
   "source": [
    "import psycopg2\n",
    "import pandas as pd\n",
    "import sqlite3\n",
    "import numpy as np\n",
    "from sklearn.cluster import KMeans\n",
    "from collections import OrderedDict\n",
    "from sklearn import metrics\n",
    "from scipy.spatial.distance import cdist\n",
    "import matplotlib.pyplot as plt\n",
    "from matplotlib.colors import cnames\n",
    "%matplotlib inline\n",
    "\n",
    "pg_connection = {\n",
    "    \"host\": \"dsstudents.skillbox.ru\",\n",
    "    \"port\": 5432,\n",
    "    \"dbname\": \"db_ds_students\",\n",
    "    \"user\": \"readonly\",\n",
    "    \"password\": \"6hajV34RTQfmxhS\"\n",
    "}\n",
    "\n",
    "conn = psycopg2.connect(**pg_connection)\n",
    "cursor = conn.cursor()\n",
    "sql_string_test = \"SELECT table_name FROM information_schema.tables  WHERE table_schema='public';\"\n",
    "\n",
    "cursor.execute(sql_string_test)\n",
    "name_table = cursor.fetchall()\n",
    "name_table = [a[0] for a in name_table]\n",
    "print(cursor.description)\n",
    "conn.close()"
   ]
  },
  {
   "cell_type": "code",
   "execution_count": 2,
   "metadata": {},
   "outputs": [],
   "source": [
    "def chisqlite():\n",
    "    'Позволяет просматривать таблицы в Postgresql'\n",
    "    conn = psycopg2.connect(**pg_connection)\n",
    "    cursor = conn.cursor()\n",
    "    print(sorted(name_table))\n",
    "    chosen_table = input('Выберите таблицу из вышепредставленных:')\n",
    "    index_table = name_table.index(chosen_table)\n",
    "    sql_string = \"SELECT column_name, data_type FROM INFORMATION_SCHEMA.COLUMNS WHERE table_name =  '{}' ;\".format(name_table[index_table])\n",
    "    cursor.execute(sql_string)\n",
    "    columns = cursor.fetchall()\n",
    "    column_names = [a for a, b in columns]\n",
    "    print('Названия колонок в выбранной таблице: {}'.format(sorted(column_names)))\n",
    "    selector = input('SELECT {ваш ввод} (по умолчанию *)')\n",
    "    if len(selector) == 0:\n",
    "        selector = '*'\n",
    "    where = input('Введите условие WHERE {ваш ввод} (по умолчанию отсутствует)')\n",
    "    if len(where) > 0:\n",
    "        where = 'WHERE {}'.format(where)\n",
    "    grouper = input('Введите GROUP BY {ваш ввод} (по умолчанию отсутствует)')\n",
    "    if len(grouper) > 0:\n",
    "        grouper = 'GROUP BY {}'.format(grouper)\n",
    "    order = input('Введите ORDER BY {ваш ввод} (по умолчанию отсутствует)')\n",
    "    if len(order) > 0:\n",
    "        order = 'ORDER BY {}'.format(order)\n",
    "    sql_string = 'SELECT {cols} FROM {name_table} {where} {grouper} {order};'.format(cols = selector, name_table = name_table[index_table], where = where, order = order, grouper = grouper)\n",
    "    cursor.execute(sql_string)\n",
    "    res = cursor.fetchall()\n",
    "\n",
    "    conn.close()\n",
    "\n",
    "    try:\n",
    "        res_df = pd.DataFrame(res, columns = column_names)\n",
    "    except:\n",
    "        if selector != '*':\n",
    "            res_df = pd.DataFrame(res, columns = selector.split(', '))\n",
    "        else:\n",
    "            res_df = pd.DataFrame(res)\n",
    "    return res_df"
   ]
  },
  {
   "cell_type": "code",
   "execution_count": 3,
   "metadata": {},
   "outputs": [
    {
     "name": "stdout",
     "output_type": "stream",
     "text": [
      "['course_purchases', 'exploratory', 'keywords', 'links', 'ratings']\n"
     ]
    },
    {
     "name": "stdin",
     "output_type": "stream",
     "text": [
      "Выберите таблицу из вышепредставленных: exploratory\n"
     ]
    },
    {
     "name": "stdout",
     "output_type": "stream",
     "text": [
      "Названия колонок в выбранной таблице: ['feature_1', 'feature_2', 'feature_3', 'feature_4', 'feature_5']\n"
     ]
    },
    {
     "name": "stdin",
     "output_type": "stream",
     "text": [
      "SELECT {ваш ввод} (по умолчанию *) \n",
      "Введите условие WHERE {ваш ввод} (по умолчанию отсутствует) \n",
      "Введите GROUP BY {ваш ввод} (по умолчанию отсутствует) \n",
      "Введите ORDER BY {ваш ввод} (по умолчанию отсутствует) \n"
     ]
    }
   ],
   "source": [
    "table = chisqlite()"
   ]
  },
  {
   "cell_type": "code",
   "execution_count": 4,
   "metadata": {},
   "outputs": [
    {
     "data": {
      "text/html": [
       "<div>\n",
       "<style scoped>\n",
       "    .dataframe tbody tr th:only-of-type {\n",
       "        vertical-align: middle;\n",
       "    }\n",
       "\n",
       "    .dataframe tbody tr th {\n",
       "        vertical-align: top;\n",
       "    }\n",
       "\n",
       "    .dataframe thead th {\n",
       "        text-align: right;\n",
       "    }\n",
       "</style>\n",
       "<table border=\"1\" class=\"dataframe\">\n",
       "  <thead>\n",
       "    <tr style=\"text-align: right;\">\n",
       "      <th></th>\n",
       "      <th>feature_1</th>\n",
       "      <th>feature_2</th>\n",
       "      <th>feature_3</th>\n",
       "      <th>feature_4</th>\n",
       "      <th>feature_5</th>\n",
       "    </tr>\n",
       "  </thead>\n",
       "  <tbody>\n",
       "    <tr>\n",
       "      <th>0</th>\n",
       "      <td>2.4399302341553932</td>\n",
       "      <td>-2.180960698389708</td>\n",
       "      <td>33.4684964804719</td>\n",
       "      <td>-1.9273880121739875</td>\n",
       "      <td>-5.3213919475057105</td>\n",
       "    </tr>\n",
       "    <tr>\n",
       "      <th>1</th>\n",
       "      <td>1.7705797495879034</td>\n",
       "      <td>-1.174880454210172</td>\n",
       "      <td>0.9895926481354946</td>\n",
       "      <td>-1.1396809115663187</td>\n",
       "      <td>-2.0802195404111687</td>\n",
       "    </tr>\n",
       "    <tr>\n",
       "      <th>2</th>\n",
       "      <td>0.7428169764168391</td>\n",
       "      <td>-0.2634829113111655</td>\n",
       "      <td>0.16814863490368492</td>\n",
       "      <td>-0.3324379721161745</td>\n",
       "      <td>-0.19571957951766614</td>\n",
       "    </tr>\n",
       "    <tr>\n",
       "      <th>3</th>\n",
       "      <td>-1.510891800324271</td>\n",
       "      <td>2.7125712625192238</td>\n",
       "      <td>-2.6856430298672915</td>\n",
       "      <td>2.0584952423727403</td>\n",
       "      <td>-4.098401678335551</td>\n",
       "    </tr>\n",
       "    <tr>\n",
       "      <th>4</th>\n",
       "      <td>-0.4835110394772655</td>\n",
       "      <td>0.096511221663355</td>\n",
       "      <td>-0.028703495808161117</td>\n",
       "      <td>0.1687629004635419</td>\n",
       "      <td>-0.04666424110766956</td>\n",
       "    </tr>\n",
       "    <tr>\n",
       "      <th>...</th>\n",
       "      <td>...</td>\n",
       "      <td>...</td>\n",
       "      <td>...</td>\n",
       "      <td>...</td>\n",
       "      <td>...</td>\n",
       "    </tr>\n",
       "    <tr>\n",
       "      <th>95</th>\n",
       "      <td>0.10764850635557899</td>\n",
       "      <td>-3.101785656930369</td>\n",
       "      <td>56.49091243959598</td>\n",
       "      <td>-1.9937680914933749</td>\n",
       "      <td>-0.33390259300371256</td>\n",
       "    </tr>\n",
       "    <tr>\n",
       "      <th>96</th>\n",
       "      <td>1.759629548272443</td>\n",
       "      <td>-1.4285652188163707</td>\n",
       "      <td>1.2644422383976943</td>\n",
       "      <td>-1.29835370396105</td>\n",
       "      <td>-2.513745570663574</td>\n",
       "    </tr>\n",
       "    <tr>\n",
       "      <th>97</th>\n",
       "      <td>0.8438229416103058</td>\n",
       "      <td>1.1876556600977073</td>\n",
       "      <td>-1.4100261703323511</td>\n",
       "      <td>0.566680768339602</td>\n",
       "      <td>1.0021710927237768</td>\n",
       "    </tr>\n",
       "    <tr>\n",
       "      <th>98</th>\n",
       "      <td>0.8671537593957526</td>\n",
       "      <td>1.1115564316783124</td>\n",
       "      <td>-1.3317181504522202</td>\n",
       "      <td>0.5131668559607284</td>\n",
       "      <td>0.9638903385103766</td>\n",
       "    </tr>\n",
       "    <tr>\n",
       "      <th>99</th>\n",
       "      <td>1.0427784677927838</td>\n",
       "      <td>0.6775501184540956</td>\n",
       "      <td>-0.891735892690191</td>\n",
       "      <td>0.19850714423012655</td>\n",
       "      <td>0.706534674374381</td>\n",
       "    </tr>\n",
       "  </tbody>\n",
       "</table>\n",
       "<p>100 rows × 5 columns</p>\n",
       "</div>"
      ],
      "text/plain": [
       "                         feature_1                       feature_2  \\\n",
       "0   2.4399302341553932              -2.180960698389708               \n",
       "1   1.7705797495879034              -1.174880454210172               \n",
       "2   0.7428169764168391              -0.2634829113111655              \n",
       "3   -1.510891800324271              2.7125712625192238               \n",
       "4   -0.4835110394772655             0.096511221663355                \n",
       "..                             ...                             ...   \n",
       "95  0.10764850635557899             -3.101785656930369               \n",
       "96  1.759629548272443               -1.4285652188163707              \n",
       "97  0.8438229416103058              1.1876556600977073               \n",
       "98  0.8671537593957526              1.1115564316783124               \n",
       "99  1.0427784677927838              0.6775501184540956               \n",
       "\n",
       "                         feature_3                       feature_4  \\\n",
       "0   33.4684964804719                -1.9273880121739875              \n",
       "1   0.9895926481354946              -1.1396809115663187              \n",
       "2   0.16814863490368492             -0.3324379721161745              \n",
       "3   -2.6856430298672915             2.0584952423727403               \n",
       "4   -0.028703495808161117           0.1687629004635419               \n",
       "..                             ...                             ...   \n",
       "95  56.49091243959598               -1.9937680914933749              \n",
       "96  1.2644422383976943              -1.29835370396105                \n",
       "97  -1.4100261703323511             0.566680768339602                \n",
       "98  -1.3317181504522202             0.5131668559607284               \n",
       "99  -0.891735892690191              0.19850714423012655              \n",
       "\n",
       "                         feature_5  \n",
       "0   -5.3213919475057105             \n",
       "1   -2.0802195404111687             \n",
       "2   -0.19571957951766614            \n",
       "3   -4.098401678335551              \n",
       "4   -0.04666424110766956            \n",
       "..                             ...  \n",
       "95  -0.33390259300371256            \n",
       "96  -2.513745570663574              \n",
       "97  1.0021710927237768              \n",
       "98  0.9638903385103766              \n",
       "99  0.706534674374381               \n",
       "\n",
       "[100 rows x 5 columns]"
      ]
     },
     "execution_count": 4,
     "metadata": {},
     "output_type": "execute_result"
    }
   ],
   "source": [
    "table"
   ]
  },
  {
   "cell_type": "code",
   "execution_count": 5,
   "metadata": {},
   "outputs": [],
   "source": [
    "for x in table:\n",
    "    table[x] = table[x].astype('float64')"
   ]
  },
  {
   "cell_type": "code",
   "execution_count": 6,
   "metadata": {},
   "outputs": [
    {
     "data": {
      "text/plain": [
       "feature_1    0\n",
       "feature_2    0\n",
       "feature_3    0\n",
       "feature_4    0\n",
       "feature_5    0\n",
       "dtype: int64"
      ]
     },
     "execution_count": 6,
     "metadata": {},
     "output_type": "execute_result"
    }
   ],
   "source": [
    "table.isnull().sum()"
   ]
  },
  {
   "cell_type": "code",
   "execution_count": 21,
   "metadata": {},
   "outputs": [
    {
     "name": "stdout",
     "output_type": "stream",
     "text": [
      "feature_1\n",
      "feature_2\n",
      "feature_3\n",
      "feature_4\n",
      "feature_5\n"
     ]
    },
    {
     "data": {
      "image/png": "[encoded data removed]",
      "text/plain": [
       "<Figure size 432x288 with 1 Axes>"
      ]
     },
     "metadata": {
      "needs_background": "light"
     },
     "output_type": "display_data"
    },
    {
     "data": {
      "image/png": "[encoded data removed]",
      "text/plain": [
       "<Figure size 432x288 with 1 Axes>"
      ]
     },
     "metadata": {
      "needs_background": "light"
     },
     "output_type": "display_data"
    },
    {
     "data": {
      "image/png": "[encoded data removed]",
      "text/plain": [
       "<Figure size 432x288 with 1 Axes>"
      ]
     },
     "metadata": {
      "needs_background": "light"
     },
     "output_type": "display_data"
    },
    {
     "data": {
      "image/png": "[encoded data removed]",
      "text/plain": [
       "<Figure size 432x288 with 1 Axes>"
      ]
     },
     "metadata": {
      "needs_background": "light"
     },
     "output_type": "display_data"
    },
    {
     "data": {
      "image/png": "[encoded data removed]",
      "text/plain": [
       "<Figure size 432x288 with 1 Axes>"
      ]
     },
     "metadata": {
      "needs_background": "light"
     },
     "output_type": "display_data"
    }
   ],
   "source": [
    "dct = {}\n",
    "borders_dict = {}\n",
    "values_dict = {}\n",
    "for col in table.columns:\n",
    "    print(col)\n",
    "    dct2 = {}\n",
    "    dct3 = {}\n",
    "    mins = {}\n",
    "    maxs = {}\n",
    "    borders = {}\n",
    "    lenn = len(table[col])\n",
    "    X = table[col].values.reshape(-1, 1)\n",
    "    pas = False\n",
    "    pas2 = False\n",
    "    fig, ax = plt.subplots()\n",
    "    digit = range(1,10)\n",
    "    indexes = range(2, 10)\n",
    "    distortions = []\n",
    "    inertias = []\n",
    "    mapping1 = {}\n",
    "    mapping2 = {}\n",
    "    for d in digit:\n",
    "        clust = KMeans(n_clusters=d).fit(X)\n",
    "        distortions.append(sum(np.min(cdist(X, clust.cluster_centers_, 'euclidean'),axis=1)) / X.shape[0])\n",
    "        inertias.append(clust.inertia_)\n",
    "        mapping1[d] = sum(np.min(cdist(X, clust.cluster_centers_, 'euclidean'),axis=1)) / X.shape[0]\n",
    "        mapping2[d] = clust.inertia_\n",
    "    for index in indexes:\n",
    "        if (mapping2[index+1] / mapping2[index] > 0.67) and (mapping2[index-1] / 1.5 > mapping2[index]):\n",
    "            dct[col] = index - 1\n",
    "            break\n",
    "    clust = KMeans(n_clusters=dct[col]).fit(X)\n",
    "    for f in clust.predict(X):\n",
    "            if f not in dct2:\n",
    "                dct2[f] = 1\n",
    "            else:\n",
    "                dct2[f] += 1\n",
    "    centres = [round(float(x), 2) for x in clust.cluster_centers_]\n",
    "    for i in range(len(dct2)):\n",
    "        dct3[centres[i]] = dct2[i]\n",
    "    dct3 = dict(OrderedDict(sorted(dct3.items(), key=lambda t: t[0])))\n",
    "    for x in range(len(X)):\n",
    "        if clust.predict(X)[x] not in maxs:\n",
    "            maxs[clust.predict(X)[x]] = X[x]\n",
    "        elif maxs[clust.predict(X)[x]] < X[x]:\n",
    "            maxs[clust.predict(X)[x]] = X[x]\n",
    "    for x in range(len(X)):\n",
    "        if clust.predict(X)[x] not in mins:\n",
    "            mins[clust.predict(X)[x]] = X[x]\n",
    "        elif mins[clust.predict(X)[x]] > X[x]:\n",
    "            mins[clust.predict(X)[x]] = X[x]\n",
    "    distant = {}\n",
    "    for i in range(len(dct2)):\n",
    "        borders[centres[i]] = [round(float(mins[i]), 2), round(float(maxs[i]), 2)]\n",
    "        distant[centres[i]] = (abs(round(float(maxs[i]), 2)) - round(float(mins[i]), 2))\n",
    "    for elem in distant:\n",
    "        distant[elem] = distant[elem] / sum((distant.values())) \n",
    "    distant = dict(OrderedDict(sorted(distant.items(), key=lambda t: t[0])))\n",
    "    borders = dict(OrderedDict(sorted(borders.items(), key=lambda t: t[0])))\n",
    "    borders_dict[col] = borders\n",
    "    values_dict[col] = dct3\n",
    "    ax.set_title(col)\n",
    "    plt.xticks(rotation = 45)\n",
    "    color_indexes = list(np.random.randint(0, 100, len(centres)))\n",
    "    colors = []\n",
    "    for c in list(cnames.keys()):\n",
    "        if list(cnames.keys()).index(c) in color_indexes:\n",
    "            colors.append(c)\n",
    "    #  width = distant,\n",
    "    ax.bar(np.arange(dct[col]), list(dct3.values()), align = 'center', color = colors, tick_label = [str(x) for x in list(borders.values())])\n",
    "#Как красиво отобразить 3?"
   ]
  },
  {
   "cell_type": "code",
   "execution_count": 9,
   "metadata": {},
   "outputs": [
    {
     "data": {
      "text/plain": [
       "{'feature_1': {-1.41: 39, 0.34: 36, 1.44: 25},\n",
       " 'feature_2': {-2.45: 9, -1.13: 30, 0.16: 26, 1.59: 35},\n",
       " 'feature_3': {-1.41: 45, 0.79: 45, 36.52: 7, 49.34: 1, 59.44: 2},\n",
       " 'feature_4': {-1.27: 26, -0.23: 31, 0.76: 29, 1.58: 14},\n",
       " 'feature_5': {-4.09: 11, -1.77: 22, -0.24: 36, 1.04: 31}}"
      ]
     },
     "execution_count": 9,
     "metadata": {},
     "output_type": "execute_result"
    }
   ],
   "source": [
    "values_dict\n",
    "# Количество значений по колонкам"
   ]
  },
  {
   "cell_type": "code",
   "execution_count": 10,
   "metadata": {},
   "outputs": [
    {
     "data": {
      "text/plain": [
       "{'feature_1': {-1.41: [-3.04, -0.61], 0.34: [-0.5, 0.87], 1.44: [0.91, 2.44]},\n",
       " 'feature_2': {-2.45: [-3.59, -1.88],\n",
       "  -1.13: [-1.75, -0.5],\n",
       "  0.16: [-0.46, 0.82],\n",
       "  1.59: [0.96, 2.71]},\n",
       " 'feature_3': {-1.41: [-2.73, -0.38],\n",
       "  0.79: [-0.28, 1.82],\n",
       "  36.52: [30.91, 40.54],\n",
       "  49.34: [49.34, 49.34],\n",
       "  59.44: [56.49, 62.38]},\n",
       " 'feature_4': {-1.27: [-2.57, -0.78],\n",
       "  -0.23: [-0.73, 0.2],\n",
       "  0.76: [0.3, 1.14],\n",
       "  1.58: [1.24, 2.09]},\n",
       " 'feature_5': {-4.09: [-5.33, -3.08],\n",
       "  -1.77: [-2.8, -1.02],\n",
       "  -0.24: [-0.84, 0.35],\n",
       "  1.04: [0.53, 1.9]}}"
      ]
     },
     "execution_count": 10,
     "metadata": {},
     "output_type": "execute_result"
    }
   ],
   "source": [
    "borders_dict\n",
    "# Границы колонок"
   ]
  },
  {
   "cell_type": "code",
   "execution_count": 11,
   "metadata": {},
   "outputs": [],
   "source": [
    "promezh = {}\n",
    "for feature in borders_dict:\n",
    "    promezh[feature] = {}\n",
    "    for v in borders_dict[feature]:\n",
    "        promezh[feature][v] = [borders_dict[feature][v],(values_dict[feature][v])]\n",
    "# Логическое соединение границ промежутков и значений в них"
   ]
  },
  {
   "cell_type": "code",
   "execution_count": 12,
   "metadata": {},
   "outputs": [
    {
     "name": "stdout",
     "output_type": "stream",
     "text": [
      "Отрезки в feature_1:\n",
      "Промежуток [-3.04, -0.61] содержит 39 элементов\n",
      "Промежуток [-0.5, 0.87] содержит 36 элементов\n",
      "Промежуток [0.91, 2.44] содержит 25 элементов\n",
      "------------\n",
      "Отрезки в feature_2:\n",
      "Промежуток [-3.59, -1.88] содержит 9 элементов\n",
      "Промежуток [-1.75, -0.5] содержит 30 элементов\n",
      "Промежуток [-0.46, 0.82] содержит 26 элементов\n",
      "Промежуток [0.96, 2.71] содержит 35 элементов\n",
      "------------\n",
      "Отрезки в feature_3:\n",
      "Промежуток [-2.73, -0.38] содержит 45 элементов\n",
      "Промежуток [-0.28, 1.82] содержит 45 элементов\n",
      "Промежуток [30.91, 40.54] содержит 7 элементов\n",
      "Промежуток [49.34, 49.34] содержит 1 элементов\n",
      "Промежуток [56.49, 62.38] содержит 2 элементов\n",
      "------------\n",
      "Отрезки в feature_4:\n",
      "Промежуток [-2.57, -0.78] содержит 26 элементов\n",
      "Промежуток [-0.73, 0.2] содержит 31 элементов\n",
      "Промежуток [0.3, 1.14] содержит 29 элементов\n",
      "Промежуток [1.24, 2.09] содержит 14 элементов\n",
      "------------\n",
      "Отрезки в feature_5:\n",
      "Промежуток [-5.33, -3.08] содержит 11 элементов\n",
      "Промежуток [-2.8, -1.02] содержит 22 элементов\n",
      "Промежуток [-0.84, 0.35] содержит 36 элементов\n",
      "Промежуток [0.53, 1.9] содержит 31 элементов\n",
      "------------\n"
     ]
    }
   ],
   "source": [
    "for x in promezh:\n",
    "    print(f'Отрезки в {x}:')\n",
    "    for y in promezh[x]:\n",
    "        print(f'Промежуток {promezh[x][y][0]} содержит {promezh[x][y][1]} элементов')\n",
    "    else:\n",
    "        print('------------')\n",
    "# Описал данные"
   ]
  },
  {
   "cell_type": "code",
   "execution_count": 13,
   "metadata": {},
   "outputs": [],
   "source": [
    "for x in table:\n",
    "    table[x] = table[x].astype('float64')"
   ]
  },
  {
   "cell_type": "code",
   "execution_count": 14,
   "metadata": {},
   "outputs": [
    {
     "data": {
      "text/plain": [
       "Index(['feature_1', 'feature_2', 'feature_3', 'feature_4', 'feature_5'], dtype='object')"
      ]
     },
     "execution_count": 14,
     "metadata": {},
     "output_type": "execute_result"
    }
   ],
   "source": [
    "table.columns"
   ]
  },
  {
   "cell_type": "code",
   "execution_count": 15,
   "metadata": {},
   "outputs": [
    {
     "data": {
      "image/png": "[encoded data removed]",
      "text/plain": [
       "<Figure size 432x288 with 1 Axes>"
      ]
     },
     "metadata": {
      "needs_background": "light"
     },
     "output_type": "display_data"
    }
   ],
   "source": [
    "fig, ax = plt.subplots()\n",
    "\n",
    "plt.boxplot([table['feature_1'], table['feature_2'], table['feature_4'], table['feature_5']], labels = ['feature_1', 'feature_2', 'feature_4', 'feature_5'])\n",
    "plt.show()"
   ]
  },
  {
   "cell_type": "code",
   "execution_count": 16,
   "metadata": {},
   "outputs": [
    {
     "data": {
      "image/png": "[encoded data removed]",
      "text/plain": [
       "<Figure size 432x288 with 1 Axes>"
      ]
     },
     "metadata": {
      "needs_background": "light"
     },
     "output_type": "display_data"
    }
   ],
   "source": [
    "fig, ax = plt.subplots()\n",
    "\n",
    "plt.boxplot(table['feature_3'], labels = ['feature_3'])\n",
    "plt.show()"
   ]
  },
  {
   "cell_type": "markdown",
   "metadata": {},
   "source": [
    "Куча выбросов в 3 (10 процентов)"
   ]
  },
  {
   "cell_type": "code",
   "execution_count": 17,
   "metadata": {},
   "outputs": [
    {
     "data": {
      "image/png": "[encoded data removed]",
      "text/plain": [
       "<Figure size 432x288 with 1 Axes>"
      ]
     },
     "metadata": {
      "needs_background": "light"
     },
     "output_type": "display_data"
    }
   ],
   "source": [
    "fig, ax = plt.subplots()\n",
    "ax.scatter(table['feature_4'], table['feature_1'])\n",
    "plt.show()"
   ]
  },
  {
   "cell_type": "code",
   "execution_count": 18,
   "metadata": {},
   "outputs": [
    {
     "data": {
      "image/png": "[encoded data removed]",
      "text/plain": [
       "<Figure size 432x288 with 1 Axes>"
      ]
     },
     "metadata": {
      "needs_background": "light"
     },
     "output_type": "display_data"
    }
   ],
   "source": [
    "fig, ax = plt.subplots()\n",
    "ax.scatter(table['feature_4'], table['feature_2'])\n",
    "plt.show()"
   ]
  },
  {
   "cell_type": "code",
   "execution_count": 19,
   "metadata": {},
   "outputs": [
    {
     "data": {
      "image/png": "[encoded data removed]",
      "text/plain": [
       "<Figure size 432x288 with 1 Axes>"
      ]
     },
     "metadata": {
      "needs_background": "light"
     },
     "output_type": "display_data"
    }
   ],
   "source": [
    "fig, ax = plt.subplots()\n",
    "ax.scatter(table['feature_4'].drop(index = list(table[table['feature_3'] > 20]['feature_3'].index)), table[table['feature_3'] < 20]['feature_3'])\n",
    "plt.show()"
   ]
  },
  {
   "cell_type": "code",
   "execution_count": 20,
   "metadata": {},
   "outputs": [
    {
     "data": {
      "image/png": "[encoded data removed]",
      "text/plain": [
       "<Figure size 432x288 with 1 Axes>"
      ]
     },
     "metadata": {
      "needs_background": "light"
     },
     "output_type": "display_data"
    }
   ],
   "source": [
    "fig, ax = plt.subplots()\n",
    "ax.scatter(table['feature_4'], table['feature_5'])\n",
    "plt.show()"
   ]
  },
  {
   "cell_type": "markdown",
   "metadata": {},
   "source": [
    "Третью, (после очистки значений) и вторую"
   ]
  }
 ],
 "metadata": {
  "kernelspec": {
   "display_name": "Python 3",
   "language": "python",
   "name": "python3"
  },
  "language_info": {
   "codemirror_mode": {
    "name": "ipython",
    "version": 3
   },
   "file_extension": ".py",
   "mimetype": "text/x-python",
   "name": "python",
   "nbconvert_exporter": "python",
   "pygments_lexer": "ipython3",
   "version": "3.8.3"
  }
 },
 "nbformat": 4,
 "nbformat_minor": 4
}
